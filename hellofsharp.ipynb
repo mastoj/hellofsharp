{
 "cells": [
  {
   "cell_type": "markdown",
   "metadata": {
    "dotnet_interactive": {
     "language": "csharp"
    },
    "polyglot_notebook": {
     "kernelName": "csharp"
    }
   },
   "source": [
    "# Hello F#\n",
    "\n",
    "This is a .net interactive notebook with some sample code of the basic of F# that you play around with.\n",
    "\n",
    "Things we will cover in this notebook is:\n",
    "\n",
    "* Simple types\n",
    "* What is `let`\n",
    "* More complex types\n",
    "* Pattern matching"
   ]
  },
  {
   "cell_type": "markdown",
   "metadata": {
    "dotnet_interactive": {
     "language": "csharp"
    },
    "polyglot_notebook": {
     "kernelName": "csharp"
    }
   },
   "source": [
    "## Simple types\n",
    "\n",
    "Types is one of the most important strength in F#. I've devided types into two sections, one around simple types and then one more advanced types later on.\n",
    "\n",
    "Types are defined using the `type` keyword. That is used for all the different types you can define, records, discriminated unions, classes, abstract classes or interfaces (yes you can do classes and interfaces in F#)\n",
    "\n",
    "Let's see some examples"
   ]
  },
  {
   "cell_type": "code",
   "execution_count": null,
   "metadata": {
    "dotnet_interactive": {
     "language": "fsharp"
    },
    "vscode": {
     "languageId": "polyglot-notebook"
    }
   },
   "outputs": [],
   "source": [
    "// Type alias \n",
    "type Age = int // This is just an alias over a native built-in type\n",
    "type Name = string\n",
    "\n",
    "// Record\n",
    "type Person = {\n",
    "    Name: Name\n",
    "    Age: Age\n",
    "}\n",
    "\n",
    "type Weirdo = \n",
    "    | Something of Person\n",
    "    | Number of int\n",
    "\n",
    "// Discriminated union\n",
    "type Employee =\n",
    "    | Manager of Person\n",
    "    | Employee of Person\n",
    "    | Weirdo of Weirdo"
   ]
  },
  {
   "cell_type": "markdown",
   "metadata": {
    "dotnet_interactive": {
     "language": "csharp"
    },
    "polyglot_notebook": {
     "kernelName": "csharp"
    }
   },
   "source": [
    "## All you need is `let`\n",
    "\n",
    "`let` is the keyword used to define and assign a variable in F#. You use it to define functions and values. One thing that is important in F# is that everything is an expression. So everything has an output."
   ]
  },
  {
   "cell_type": "code",
   "execution_count": null,
   "metadata": {
    "dotnet_interactive": {
     "language": "fsharp"
    },
    "vscode": {
     "languageId": "polyglot-notebook"
    }
   },
   "outputs": [],
   "source": [
    "// Integer\n",
    "let x = 10\n",
    "\n",
    "// String\n",
    "let y = \"Hello\"\n",
    "\n",
    "// Record \n",
    "let tomas = { Name = \"Tomas\"; Age = 30 }\n",
    "let tomas2: Person = {\n",
    "    Person.Name = \"Tomas\" // No need for ;\n",
    "    Age = 30\n",
    "}\n",
    "// DUs\n",
    "let employee = Employee tomas\n",
    "let manager = Manager tomas2\n",
    "let weirdo = Weirdo (Number 10)\n",
    "\n",
    "// Functions\n",
    "let add x y = x + y\n",
    "add 5 6, tomas = tomas2, employee = manager, weirdo, weirdo = employee\n",
    "// add 5.5 5.6 // Fails since add has been inferred to be of type int"
   ]
  },
  {
   "cell_type": "code",
   "execution_count": null,
   "metadata": {
    "dotnet_interactive": {
     "language": "fsharp"
    },
    "vscode": {
     "languageId": "polyglot-notebook"
    }
   },
   "outputs": [],
   "source": [
    "// More functions\n",
    "let changeName name person = { person with Name = name }\n",
    "let ole = changeName \"Ole\" tomas\n",
    "(ole, tomas, ole = tomas, tomas = tomas)\n"
   ]
  },
  {
   "cell_type": "code",
   "execution_count": null,
   "metadata": {
    "dotnet_interactive": {
     "language": "fsharp"
    },
    "vscode": {
     "languageId": "polyglot-notebook"
    }
   },
   "outputs": [],
   "source": [
    "tomas // is still unchanged"
   ]
  },
  {
   "cell_type": "code",
   "execution_count": null,
   "metadata": {
    "dotnet_interactive": {
     "language": "fsharp"
    },
    "vscode": {
     "languageId": "polyglot-notebook"
    }
   },
   "outputs": [],
   "source": [
    "let changeEmployeeName name employee = \n",
    "    match employee with\n",
    "    | Manager person -> Manager (changeName name person)\n",
    "    | Employee person -> Employee (changeName name person)\n",
    "\n",
    "changeEmployeeName \"ole\" manager"
   ]
  },
  {
   "cell_type": "markdown",
   "metadata": {
    "dotnet_interactive": {
     "language": "csharp"
    },
    "polyglot_notebook": {
     "kernelName": "csharp"
    }
   },
   "source": [
    "## How do you work with \"null\"?\n",
    "\n",
    "> Null References: The Billion Dollar Mistake - Tony Hoare (creator of null)\n",
    "\n",
    "In \"pure\" F# null isn't allowed, so how do you work with null?\n",
    "\n",
    "The answer is `Option`. If you want to make something optional, you must define it as an `Option` which forces you to do the right thing to get the code to compile."
   ]
  },
  {
   "cell_type": "code",
   "execution_count": null,
   "metadata": {
    "dotnet_interactive": {
     "language": "fsharp"
    },
    "vscode": {
     "languageId": "polyglot-notebook"
    }
   },
   "outputs": [],
   "source": [
    "type Name = { FirstName: string; LastName: string; MiddleName: string option }\n",
    "let name1 = { FirstName = \"Tomas\"; LastName = \"Jansson\"; MiddleName = None }\n",
    "let name2 = { FirstName = \"Tomas\"; LastName = \"Jansson\"; MiddleName = Some \"Doe\" }\n",
    "\n",
    "let names = [\"viktor\"; \"tomas\"; \"ole\"]\n",
    "let viktor = names |> List.tryFind (fun n -> n = \"viktor2\") |> Option.defaultValue \"Not found\"\n",
    "\n",
    "let printName name =\n",
    "    match name.MiddleName with\n",
    "    | None -> sprintf \"%s %s\" name.FirstName name.LastName\n",
    "    | Some middleName -> sprintf \"%s (%s) %s\" name.FirstName middleName name.LastName\n",
    "\n",
    "printName name1, printName name2, viktor\n"
   ]
  },
  {
   "cell_type": "markdown",
   "metadata": {
    "dotnet_interactive": {
     "language": "csharp"
    },
    "polyglot_notebook": {
     "kernelName": "csharp"
    }
   },
   "source": [
    "## Currying and partial applications\n",
    "\n",
    "Currying and partial applications are central concept in programming in general, and you can also use it in most languages today that treats functions as first class citizens (C# does as well).\n",
    "\n",
    "Currying is to allow a function that takes multiple arguments to be written as a sequence of functions where each function takes one argument.\n",
    "\n",
    "    let add1 (x,y) = x + y // function that takes to arguments\n",
    "    let add2 x y = x + y // curried version\n",
    "\n",
    "Partial applications is what you got when you call a curried function with only some of its values\n",
    "\n",
    "    let add100 = add2 100 // This will call add2 with argumenet 100 returning a new function where x is set to be 100"
   ]
  },
  {
   "cell_type": "code",
   "execution_count": null,
   "metadata": {
    "dotnet_interactive": {
     "language": "fsharp"
    },
    "vscode": {
     "languageId": "polyglot-notebook"
    }
   },
   "outputs": [],
   "source": [
    "let add1 (x,y) = x + y\n",
    "let add2 x y = x + y\n",
    "let add100 = add2 100\n",
    "\n",
    "(add1(5,4), add 5 4, add100 5)"
   ]
  },
  {
   "cell_type": "code",
   "execution_count": null,
   "metadata": {
    "dotnet_interactive": {
     "language": "fsharp"
    },
    "vscode": {
     "languageId": "polyglot-notebook"
    }
   },
   "outputs": [],
   "source": [
    "let doMath operator x y = operator x y\n",
    "let doAddition = doMath (fun x y -> x + y)\n",
    "let doSubtraction = doMath (fun x y -> x - y)\n",
    "let doMultiplication = doMath (fun x y -> x * y)\n",
    "let doDivision = doMath (fun x y -> x / y)\n",
    "\n",
    "doAddition 10 10, doSubtraction 10 4, doMultiplication 10 10, doDivision 100 10"
   ]
  },
  {
   "cell_type": "markdown",
   "metadata": {
    "dotnet_interactive": {
     "language": "csharp"
    },
    "polyglot_notebook": {
     "kernelName": "csharp"
    }
   },
   "source": [
    "## Piping (|>)\n",
    "\n",
    "Piping is very commong in F#, and it is a lot like bash piping. The syntax in short is\n",
    "\n",
    "    value |> function\n",
    "\n",
    "this is exactly the same as calling\n",
    "\n",
    "    function value"
   ]
  },
  {
   "cell_type": "code",
   "execution_count": null,
   "metadata": {
    "dotnet_interactive": {
     "language": "fsharp"
    },
    "vscode": {
     "languageId": "polyglot-notebook"
    }
   },
   "outputs": [],
   "source": [
    "let parse x = int x\n",
    "let validate x = \n",
    "    if x > 2 then x else raise (exn \"Invalid number\")\n",
    "let double x = x * 2\n",
    "\n",
    "let application x =\n",
    "    x |> parse |> validate |> double\n",
    "\n",
    "\"5\" |> application"
   ]
  },
  {
   "cell_type": "markdown",
   "metadata": {
    "dotnet_interactive": {
     "language": "csharp"
    },
    "polyglot_notebook": {
     "kernelName": "csharp"
    }
   },
   "source": [
    "## More types\n",
    "\n",
    "Discriminated unions is one of the most powerful features in F# (in my opinion). So let's explore them a little bit more.\n",
    "\n",
    "Basic structure of discriminated unions:\n",
    "\n",
    "```\n",
    "type <Name of DU> =\n",
    "    | <case> (of data)\n",
    "\n",
    "type Option<'T> =\n",
    "    | None\n",
    "    | Some of 'T\n",
    "```"
   ]
  },
  {
   "cell_type": "code",
   "execution_count": null,
   "metadata": {
    "dotnet_interactive": {
     "language": "fsharp"
    },
    "vscode": {
     "languageId": "polyglot-notebook"
    }
   },
   "outputs": [],
   "source": [
    "type MyOption<'T> =\n",
    "    | MySome of 'T\n",
    "    | MyNone\n",
    "\n",
    "let x = MySome 5\n",
    "let y = MyNone\n",
    "\n",
    "let toString x =\n",
    "    match x with\n",
    "    | MySome x -> sprintf \"%A\" x\n",
    "    | MyNone -> sprintf \"None\"\n",
    "\n",
    "(toString x, toString y)"
   ]
  },
  {
   "cell_type": "code",
   "execution_count": 2,
   "metadata": {
    "dotnet_interactive": {
     "language": "fsharp"
    },
    "vscode": {
     "languageId": "polyglot-notebook"
    }
   },
   "outputs": [
    {
     "data": {
      "text/html": [
       "<table><thead><tr><th><i>index</i></th><th>OrderHeader</th><th>MatchedCampaigns</th><th>BonusPoints</th><th>OrderLineResults</th></tr></thead><tbody><tr><td>0</td><td><table><thead><tr><th>OrderId</th><th>TotalAmount</th></tr></thead><tbody><tr><td><div class=\"dni-plaintext\"><pre>1</pre></div></td><td><div class=\"dni-plaintext\"><pre>12002</pre></div></td></tr></tbody></table></td><td><div class=\"dni-plaintext\"><pre>[ Base, Double points, Quadruple points ]</pre></div></td><td><div class=\"dni-plaintext\"><pre>25004</pre></div></td><td><div class=\"dni-plaintext\"><pre>FSharpList&lt;OrderLineResult&gt;\n",
       "          - Brand: Apple\n",
       "            ArticleId: AA\n",
       "            Amount: 1000\n",
       "            Points: 1000\n",
       "            Campaign: Base\n",
       "          - Brand: Apple\n",
       "            ArticleId: AB\n",
       "            Amount: 5001\n",
       "            Points: 10002\n",
       "            Campaign: Double points\n",
       "          - Brand: Samsung\n",
       "            ArticleId: SA\n",
       "            Amount: 1000\n",
       "            Points: 4000\n",
       "            Campaign: Quadruple points\n",
       "          - Brand: Samsung\n",
       "            ArticleId: SB\n",
       "            Amount: 5001\n",
       "            Points: 10002\n",
       "            Campaign: Double points</pre></div></td></tr><tr><td>1</td><td><table><thead><tr><th>OrderId</th><th>TotalAmount</th></tr></thead><tbody><tr><td><div class=\"dni-plaintext\"><pre>1</pre></div></td><td><div class=\"dni-plaintext\"><pre>22002</pre></div></td></tr></tbody></table></td><td><div class=\"dni-plaintext\"><pre>[ Triple points, Quadruple points ]</pre></div></td><td><div class=\"dni-plaintext\"><pre>37006</pre></div></td><td><div class=\"dni-plaintext\"><pre>FSharpList&lt;OrderLineResult&gt;\n",
       "          - Brand: Apple\n",
       "            ArticleId: AA\n",
       "            Amount: 1000\n",
       "            Points: 3000\n",
       "            Campaign: Triple points\n",
       "          - Brand: Apple\n",
       "            ArticleId: AB\n",
       "            Amount: 5001\n",
       "            Points: 15003\n",
       "            Campaign: Triple points\n",
       "          - Brand: Samsung\n",
       "            ArticleId: SA\n",
       "            Amount: 1000\n",
       "            Points: 4000\n",
       "            Campaign: Quadruple points\n",
       "          - Brand: Samsung\n",
       "            ArticleId: SB\n",
       "            Amount: 5001\n",
       "            Points: 15003\n",
       "            Campaign: Triple points</pre></div></td></tr></tbody></table><style>\r\n",
       ".dni-code-hint {\r\n",
       "    font-style: italic;\r\n",
       "    overflow: hidden;\r\n",
       "    white-space: nowrap;\r\n",
       "}\r\n",
       ".dni-treeview {\r\n",
       "    white-space: nowrap;\r\n",
       "}\r\n",
       ".dni-treeview td {\r\n",
       "    vertical-align: top;\r\n",
       "    text-align: start;\r\n",
       "}\r\n",
       "details.dni-treeview {\r\n",
       "    padding-left: 1em;\r\n",
       "}\r\n",
       "table td {\r\n",
       "    text-align: start;\r\n",
       "}\r\n",
       "table tr { \r\n",
       "    vertical-align: top; \r\n",
       "    margin: 0em 0px;\r\n",
       "}\r\n",
       "table tr td pre \r\n",
       "{ \r\n",
       "    vertical-align: top !important; \r\n",
       "    margin: 0em 0px !important;\r\n",
       "} \r\n",
       "table th {\r\n",
       "    text-align: start;\r\n",
       "}\r\n",
       "</style>"
      ]
     },
     "metadata": {},
     "output_type": "display_data"
    }
   ],
   "source": [
    "// More advanced DU\n",
    "\n",
    "// Use case, create a loyalty engine! :)\n",
    "// We should be able to define rules based on order line which will say if they should get bonus point or not\n",
    "\n",
    "// Filter will define if the order line should get bonus point\n",
    "type Filter<'T> =\n",
    "    | Expr of ('T -> bool)\n",
    "    | And of Filter<'T> list\n",
    "    | Or of Filter<'T> list\n",
    "    | Not of Filter<'T>\n",
    " \n",
    "// Sink defins how bonus points are calculated\n",
    "type Sink<'T> = 'T -> 'T\n",
    "\n",
    "// Workflow defines how a flow with multiple filters and sinks should be created\n",
    "type Workflow<'T> =\n",
    "    | Sink of Sink<'T>\n",
    "    | Filter of Filter<'T> * Workflow<'T>\n",
    "\n",
    "type OrderLine = {\n",
    "    Brand: string\n",
    "    ArticleId: string\n",
    "    AmountPerItem: int\n",
    "    Quantity: int\n",
    "}\n",
    "\n",
    "type OrderHeader = {\n",
    "    OrderId: string\n",
    "    TotalAmount: int\n",
    "}\n",
    "type Order = {\n",
    "    OrderHeader: OrderHeader\n",
    "    OrderLines: OrderLine list\n",
    "}\n",
    "\n",
    "// In the real world this will be part of order, but simplified for the sake of this example\n",
    "type OrderLineResult = {\n",
    "    Brand: string\n",
    "    ArticleId: string\n",
    "    Amount: int\n",
    "    Points: int\n",
    "    Campaign: string\n",
    "}\n",
    "type OrderResult = {\n",
    "    OrderHeader: OrderHeader\n",
    "    MatchedCampaigns: string list\n",
    "    BonusPoints: int\n",
    "    OrderLineResults: OrderLineResult list\n",
    "}\n",
    "\n",
    "type OrderLineCalculation = {\n",
    "    OrderLineResult: OrderLineResult\n",
    "    OrderHeader: OrderHeader\n",
    "    OrderLines: OrderLine list\n",
    "}\n",
    "\n",
    "let setCampaign campaign orderLineCalculation =\n",
    "    {orderLineCalculation with OrderLineResult = { orderLineCalculation.OrderLineResult with Campaign = campaign } } \n",
    "\n",
    "let setPoints points orderLineCalculation =\n",
    "    {orderLineCalculation with OrderLineResult = { orderLineCalculation.OrderLineResult with Points = points } } \n",
    "\n",
    "// Sink function that gives double points\n",
    "let doublePointSink (orderLineCalculation) = \n",
    "    orderLineCalculation\n",
    "    |> setPoints (orderLineCalculation.OrderLineResult.Amount * 2)\n",
    "    |> setCampaign \"Double points\"\n",
    "\n",
    "// Sink function that gives one point per crown\n",
    "let baseSink (orderLineCalculation) =\n",
    "    orderLineCalculation \n",
    "    |> setPoints (orderLineCalculation.OrderLineResult.Amount)\n",
    "    |> setCampaign \"Base\"\n",
    "\n",
    "let triplePointSink orderLineCalculation =\n",
    "    orderLineCalculation\n",
    "    |> setPoints (orderLineCalculation.OrderLineResult.Amount * 3)\n",
    "    |> setCampaign \"Triple points\"\n",
    "\n",
    "let quadruplePointSink orderLineCalculation =\n",
    "    orderLineCalculation\n",
    "    |> setPoints (orderLineCalculation.OrderLineResult.Amount * 4)\n",
    "    |> setCampaign \"Quadruple points\"\n",
    "\n",
    "// Filter to make sure amount for orderline is above 5000\n",
    "let atLeast5000Filter = Expr (fun orderLineCalculation -> orderLineCalculation.OrderLineResult.Amount >= 5000)\n",
    "// Filter orderline on brand Apple\n",
    "let appleBrandFilter = Expr (fun orderLineCalculation -> orderLineCalculation.OrderLineResult.Brand = \"Apple\")\n",
    "// Filter orderline on brand Samsung\n",
    "let samsungBrandFilter = Expr (fun orderLineCalculation -> orderLineCalculation.OrderLineResult.Brand = \"Samsung\")\n",
    "// Filter orderline on total amount of order is above or equal to 20000\n",
    "let totalAmountFilter = Expr (fun orderLineCalculation -> orderLineCalculation.OrderHeader.TotalAmount >= 20000)\n",
    "// Filter orderline on article id \"SA\"\n",
    "let articleQuadrupleFilter = Expr (fun orderLineCalculation -> orderLineCalculation.OrderLineResult.ArticleId = \"SA\")\n",
    "// Combine the two brand filters so it can be either one of them\n",
    "let appleOrSamsungFilter = Or [appleBrandFilter; samsungBrandFilter]\n",
    "\n",
    "// Create workflow that matches all order lines\n",
    "let basicWorkflow = Sink baseSink\n",
    "// Create workflow that matches order lines with amount above 5000 and it matches the brand filter, apply double points\n",
    "let doublePointWorkflow = Filter (atLeast5000Filter, (Filter (appleOrSamsungFilter, (Sink doublePointSink))))\n",
    "// Give all order lines at least triple points on orders with total amount above 20000\n",
    "let triplePointFlow = Filter (totalAmountFilter, (Sink triplePointSink))\n",
    "// Give order lines of article id SA quadruple points\n",
    "let quadrupleFlow = Filter(articleQuadrupleFilter, (Sink quadruplePointSink))\n",
    "\n",
    "let toOrderLineCalculation orderHeader orderLines (orderLine: OrderLine) = \n",
    "    {\n",
    "        OrderLineResult = {\n",
    "            Brand = orderLine.Brand\n",
    "            ArticleId = orderLine.ArticleId\n",
    "            Amount = orderLine.AmountPerItem * orderLine.Quantity\n",
    "            Points = 0\n",
    "            Campaign = \"\"\n",
    "        }\n",
    "        OrderHeader = orderHeader\n",
    "        OrderLines = orderLines\n",
    "    }\n",
    "\n",
    "let rec execFilter filter orderLine =\n",
    "    match filter with\n",
    "    | Expr func -> func orderLine\n",
    "    | And funcs -> funcs |> List.fold (fun state func -> state && (execFilter func orderLine)) true\n",
    "    | Or funcs -> funcs |> List.exists (fun func -> execFilter func orderLine)\n",
    "    | Not func -> not (execFilter func orderLine)\n",
    "\n",
    "let rec execute workflow orderLine =\n",
    "    match workflow with\n",
    "    | Sink sink -> sink orderLine\n",
    "    | Filter (filter, nextStep) ->\n",
    "        if execFilter filter orderLine \n",
    "        then execute nextStep orderLine\n",
    "        else orderLine\n",
    "\n",
    "let executeMany workflows orderLine =\n",
    "    workflows\n",
    "    // Do the calculation for all workflows\n",
    "    |> List.map (fun workflow -> execute workflow orderLine)\n",
    "    // Pick the result with the most points\n",
    "    |> List.maxBy (fun orderLineCalculation -> orderLineCalculation.OrderLineResult.Points)\n",
    "\n",
    "let processOrder workflows (order: Order) =\n",
    "    let orderLineCalculation = \n",
    "        order.OrderLines\n",
    "        |> List.map (fun orderLine -> toOrderLineCalculation order.OrderHeader order.OrderLines orderLine)\n",
    "        |> List.map (executeMany workflows)\n",
    "    {\n",
    "        MatchedCampaigns = orderLineCalculation |> List.map (fun olc -> olc.OrderLineResult.Campaign) |> List.distinct\n",
    "        OrderHeader = order.OrderHeader\n",
    "        BonusPoints = orderLineCalculation |> List.sumBy(fun olc -> olc.OrderLineResult.Points)\n",
    "        OrderLineResults = (orderLineCalculation |> List.map (fun olc -> olc.OrderLineResult))\n",
    "    }\n",
    "\n",
    "let appleOrderBelow5000 = { Brand = \"Apple\"; ArticleId = \"AA\"; AmountPerItem = 1000; Quantity = 1 }\n",
    "let appleOrderAbove5000 = { Brand = \"Apple\"; ArticleId = \"AB\"; AmountPerItem = 5001; Quantity = 1 }\n",
    "let samsungOrderBelow5000 = { Brand = \"Samsung\"; ArticleId = \"SA\"; AmountPerItem = 1000; Quantity = 1 }\n",
    "let samsungOrderAbove5000 = { Brand = \"Samsung\"; ArticleId = \"SB\"; AmountPerItem = 5001; Quantity = 1 }\n",
    "let order1 = {\n",
    "    OrderHeader = { OrderId = \"1\"; TotalAmount = 12002 }\n",
    "    OrderLines = [appleOrderBelow5000; appleOrderAbove5000; samsungOrderBelow5000; samsungOrderAbove5000]\n",
    "}\n",
    "let order2 = {\n",
    "    OrderHeader = { OrderId = \"1\"; TotalAmount = 22002 }\n",
    "    OrderLines = [appleOrderBelow5000; appleOrderAbove5000; samsungOrderBelow5000; samsungOrderAbove5000]\n",
    "}\n",
    "\n",
    "[order1; order2] |> List.map (processOrder [doublePointWorkflow; basicWorkflow; triplePointFlow; quadrupleFlow])\n",
    "// order.OrderLines\n",
    "// |> List.map (fun orderLine -> toOrderLineCalculation order.OrderHeader order.OrderLines orderLine)\n",
    "// |> List.map (execute workflow)\n"
   ]
  }
 ],
 "metadata": {
  "kernelspec": {
   "display_name": ".NET (C#)",
   "language": "C#",
   "name": ".net-csharp"
  },
  "polyglot_notebook": {
   "kernelInfo": {
    "defaultKernelName": "csharp",
    "items": [
     {
      "aliases": [
       "c#",
       "C#"
      ],
      "languageName": "C#",
      "name": "csharp"
     },
     {
      "aliases": [],
      "name": ".NET"
     },
     {
      "aliases": [
       "f#",
       "F#"
      ],
      "languageName": "F#",
      "name": "fsharp"
     },
     {
      "aliases": [],
      "languageName": "HTML",
      "name": "html"
     },
     {
      "aliases": [],
      "languageName": "HTTP",
      "name": "http"
     },
     {
      "aliases": [],
      "languageName": "KQL",
      "name": "kql"
     },
     {
      "aliases": [],
      "languageName": "Mermaid",
      "name": "mermaid"
     },
     {
      "aliases": [
       "powershell"
      ],
      "languageName": "PowerShell",
      "name": "pwsh"
     },
     {
      "aliases": [],
      "languageName": "SQL",
      "name": "sql"
     },
     {
      "aliases": [],
      "name": "value"
     },
     {
      "aliases": [
       "frontend"
      ],
      "name": "vscode"
     }
    ]
   }
  }
 },
 "nbformat": 4,
 "nbformat_minor": 2
}
