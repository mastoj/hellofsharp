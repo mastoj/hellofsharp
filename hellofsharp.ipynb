{
 "cells": [
  {
   "cell_type": "markdown",
   "metadata": {},
   "source": [
    "# Hello F#\n",
    "\n",
    "This is a .net interactive notebook with some sample code of the basic of F# that you play around with.\n",
    "\n",
    "Things we will cover in this notebook is:\n",
    "\n",
    "* Simple types\n",
    "* What is `let`\n",
    "* More complex types\n",
    "* Pattern matching"
   ]
  },
  {
   "cell_type": "markdown",
   "metadata": {},
   "source": [
    "## Simple types\n",
    "\n",
    "Types is one of the most important strength in F#. I've devided types into two sections, one around simple types and then one more advanced types later on.\n",
    "\n",
    "Types are defined using the `type` keyword. That is used for all the different types you can define, records, discriminated unions, classes, abstract classes or interfaces (yes you can do classes and interfaces in F#)\n",
    "\n",
    "Let's see some examples"
   ]
  },
  {
   "cell_type": "code",
   "execution_count": null,
   "metadata": {
    "dotnet_interactive": {
     "language": "fsharp"
    }
   },
   "outputs": [],
   "source": [
    "// Type alias \n",
    "type Age = int // This is just an alias over a native built-in type\n",
    "\n",
    "// Record\n",
    "type Person = {\n",
    "    Name: string\n",
    "    Age: int\n",
    "}\n",
    "\n",
    "// Discriminated union\n",
    "type Employee =\n",
    "    | Manager of Person\n",
    "    | Employee of Person"
   ]
  },
  {
   "cell_type": "markdown",
   "metadata": {},
   "source": [
    "## All you need is `let`\n",
    "\n",
    "`let` is the keyword used to define and assign a variable in F#. You use it to define functions and values. One thing that is important in F# is that everything is an expression. So everything has an output."
   ]
  },
  {
   "cell_type": "code",
   "execution_count": null,
   "metadata": {
    "dotnet_interactive": {
     "language": "fsharp"
    }
   },
   "outputs": [
    {
     "data": {
      "text/html": [
       "<div class=\"dni-plaintext\">11</div>"
      ]
     },
     "metadata": {},
     "output_type": "display_data"
    }
   ],
   "source": [
    "// Integer\n",
    "let x = 10\n",
    "// String\n",
    "let y = \"Hello\"\n",
    "// Record \n",
    "let tomas = { Name = \"Tomas\"; Age = 30 }\n",
    "let tomas2 = {\n",
    "    Name = \"Tomas\" // No need for ;\n",
    "    Age = 30\n",
    "}\n",
    "// DUs\n",
    "let employee = Employee tomas\n",
    "let manager = Employee tomas2\n",
    "\n",
    "// Functions\n",
    "let add x y = x + y\n",
    "add 5 6\n",
    "// add 5.5 5.6 // Fails since add has been inferred to be of type int"
   ]
  },
  {
   "cell_type": "code",
   "execution_count": null,
   "metadata": {
    "dotnet_interactive": {
     "language": "fsharp"
    }
   },
   "outputs": [
    {
     "data": {
      "text/html": [
       "<table><thead><tr><th>Name</th><th>Age</th></tr></thead><tbody><tr><td><div class=\"dni-plaintext\">Ole</div></td><td><div class=\"dni-plaintext\">30</div></td></tr></tbody></table>"
      ]
     },
     "metadata": {},
     "output_type": "display_data"
    }
   ],
   "source": [
    "// More functions\n",
    "let changeName name person = { person with Name = name }\n",
    "changeName \"Ole\" tomas\n"
   ]
  },
  {
   "cell_type": "code",
   "execution_count": null,
   "metadata": {
    "dotnet_interactive": {
     "language": "fsharp"
    }
   },
   "outputs": [
    {
     "data": {
      "text/html": [
       "<table><thead><tr><th>Name</th><th>Age</th></tr></thead><tbody><tr><td><div class=\"dni-plaintext\">Tomas</div></td><td><div class=\"dni-plaintext\">30</div></td></tr></tbody></table>"
      ]
     },
     "metadata": {},
     "output_type": "display_data"
    }
   ],
   "source": [
    "tomas // is still unchanged"
   ]
  },
  {
   "cell_type": "code",
   "execution_count": null,
   "metadata": {
    "dotnet_interactive": {
     "language": "fsharp"
    }
   },
   "outputs": [
    {
     "data": {
      "text/html": [
       "<table><thead><tr><th>Item</th></tr></thead><tbody><tr><td><div class=\"dni-plaintext\">{ { Name = &quot;ole&quot;\n",
       "  Age = 30 }: Name: ole, Age: 30 }</div></td></tr></tbody></table>"
      ]
     },
     "metadata": {},
     "output_type": "display_data"
    }
   ],
   "source": [
    "let changeEmployeeName name employee = \n",
    "    match employee with\n",
    "    | Manager person -> Manager (changeName name person)\n",
    "    | Employee person -> Employee (changeName name person)\n",
    "\n",
    "changeEmployeeName \"ole\" manager"
   ]
  },
  {
   "cell_type": "markdown",
   "metadata": {},
   "source": [
    "## How do you work with \"null\"?\n",
    "\n",
    "> Null References: The Billion Dollar Mistake - Tony Hoare (creator of null)\n",
    "\n",
    "In \"pure\" F# null isn't allowed, so how do you work with null?\n",
    "\n",
    "The answer is `Option`. If you want to make something optional, you must define it as an `Option` which forces you to do the right thing to get the code to compile."
   ]
  },
  {
   "cell_type": "code",
   "execution_count": null,
   "metadata": {
    "dotnet_interactive": {
     "language": "fsharp"
    }
   },
   "outputs": [
    {
     "data": {
      "text/html": [
       "<table><thead><tr><th>Item1</th><th>Item2</th></tr></thead><tbody><tr><td><div class=\"dni-plaintext\">Tomas Jansson</div></td><td><div class=\"dni-plaintext\">Tomas (Doe) Jansson</div></td></tr></tbody></table>"
      ]
     },
     "metadata": {},
     "output_type": "display_data"
    }
   ],
   "source": [
    "type Name = { FirstName: string; LastName: string; MiddleName: string option }\n",
    "let name1 = { FirstName = \"Tomas\"; LastName = \"Jansson\"; MiddleName = None }\n",
    "let name2 = { FirstName = \"Tomas\"; LastName = \"Jansson\"; MiddleName = Some \"Doe\" }\n",
    "\n",
    "let printName name =\n",
    "    match name.MiddleName with\n",
    "    | None -> sprintf \"%s %s\" name.FirstName name.LastName\n",
    "    | Some middleName -> sprintf \"%s (%s) %s\" name.FirstName middleName name.LastName\n",
    "\n",
    "printName name1, printName name2\n"
   ]
  },
  {
   "cell_type": "markdown",
   "metadata": {},
   "source": [
    "## Currying and partial applications\n",
    "\n",
    "Currying and partial applications are central concept in programming in general, and you can also use it in most languages today that treats functions as first class citizens (C# does as well).\n",
    "\n",
    "Currying is to allow a function that takes multiple arguments to be written as a sequence of functions where each function takes one argument.\n",
    "\n",
    "    let add1 (x,y) = x + y // function that takes to arguments\n",
    "    let add2 x y = x + y // curried version\n",
    "\n",
    "Partial applications is what you got when you call a curried function with only some of its values\n",
    "\n",
    "    let add100 = add2 100 // This will call add2 with argumenet 100 returning a new function where x is set to be 100"
   ]
  },
  {
   "cell_type": "code",
   "execution_count": null,
   "metadata": {
    "dotnet_interactive": {
     "language": "fsharp"
    }
   },
   "outputs": [
    {
     "data": {
      "text/html": [
       "<table><thead><tr><th>Item1</th><th>Item2</th><th>Item3</th></tr></thead><tbody><tr><td><div class=\"dni-plaintext\">9</div></td><td><div class=\"dni-plaintext\">9</div></td><td><div class=\"dni-plaintext\">105</div></td></tr></tbody></table>"
      ]
     },
     "metadata": {},
     "output_type": "display_data"
    }
   ],
   "source": [
    "let add1 (x,y) = x + y\n",
    "let add2 x y = x + y\n",
    "let add100 = add2 100\n",
    "\n",
    "(add1(5,4), add 5 4, add100 5)"
   ]
  },
  {
   "cell_type": "code",
   "execution_count": null,
   "metadata": {
    "dotnet_interactive": {
     "language": "fsharp"
    }
   },
   "outputs": [
    {
     "data": {
      "text/html": [
       "<table><thead><tr><th>Item1</th><th>Item2</th><th>Item3</th><th>Item4</th></tr></thead><tbody><tr><td><div class=\"dni-plaintext\">20</div></td><td><div class=\"dni-plaintext\">6</div></td><td><div class=\"dni-plaintext\">100</div></td><td><div class=\"dni-plaintext\">10</div></td></tr></tbody></table>"
      ]
     },
     "metadata": {},
     "output_type": "display_data"
    }
   ],
   "source": [
    "let doMath operator x y = operator x y\n",
    "let doAddition = doMath (fun x y -> x + y)\n",
    "let doSubtraction = doMath (fun x y -> x - y)\n",
    "let doMultiplication = doMath (fun x y -> x * y)\n",
    "let doDivision = doMath (fun x y -> x / y)\n",
    "\n",
    "doAddition 10 10, doSubtraction 10 4, doMultiplication 10 10, doDivision 100 10"
   ]
  },
  {
   "cell_type": "markdown",
   "metadata": {},
   "source": [
    "## Piping (|>)\n",
    "\n",
    "Piping is very commong in F#, and it is a lot like bash piping. The syntax in short is\n",
    "\n",
    "    value |> function\n",
    "\n",
    "this is exactly the same as calling\n",
    "\n",
    "    function value"
   ]
  },
  {
   "cell_type": "code",
   "execution_count": null,
   "metadata": {
    "dotnet_interactive": {
     "language": "fsharp"
    }
   },
   "outputs": [
    {
     "data": {
      "text/html": [
       "<div class=\"dni-plaintext\">10</div>"
      ]
     },
     "metadata": {},
     "output_type": "display_data"
    }
   ],
   "source": [
    "let parse x = int x\n",
    "let validate x = \n",
    "    if x > 2 then x else raise (exn \"Invalid number\")\n",
    "let double x = x * 2\n",
    "\n",
    "let application x =\n",
    "    x |> parse |> validate |> double\n",
    "\n",
    "\"5\" |> application"
   ]
  },
  {
   "cell_type": "markdown",
   "metadata": {},
   "source": [
    "## More types\n",
    "\n",
    "Discriminated unions is one of the most powerful features in F# (in my opinion). So let's explore them a little bit more.\n",
    "\n",
    "Basic structure of discriminated unions:\n",
    "\n",
    "```\n",
    "type <Name of DU> =\n",
    "    | <case> (of data)\n",
    "\n",
    "type Option<'T> =\n",
    "    | None\n",
    "    | Some of 'T\n",
    "```"
   ]
  },
  {
   "cell_type": "code",
   "execution_count": null,
   "metadata": {
    "dotnet_interactive": {
     "language": "fsharp"
    }
   },
   "outputs": [
    {
     "data": {
      "text/html": [
       "<table><thead><tr><th>Item1</th><th>Item2</th></tr></thead><tbody><tr><td><div class=\"dni-plaintext\">5</div></td><td><div class=\"dni-plaintext\">None</div></td></tr></tbody></table>"
      ]
     },
     "metadata": {},
     "output_type": "display_data"
    }
   ],
   "source": [
    "type MyOption<'T> =\n",
    "    | MySome of 'T\n",
    "    | MyNone\n",
    "\n",
    "let x = MySome 5\n",
    "let y = MyNone\n",
    "\n",
    "let toString x =\n",
    "    match x with\n",
    "    | MySome x -> sprintf \"%A\" x\n",
    "    | MyNone -> sprintf \"None\"\n",
    "\n",
    "(toString x, toString y)"
   ]
  },
  {
   "cell_type": "code",
   "execution_count": null,
   "metadata": {
    "dotnet_interactive": {
     "language": "fsharp"
    }
   },
   "outputs": [
    {
     "data": {
      "text/html": [
       "<table><thead><tr><th><i>index</i></th><th>Brand</th><th>ArticleId</th><th>Amount</th><th>Points</th></tr></thead><tbody><tr><td>0</td><td>Apple</td><td>A</td><td><div class=\"dni-plaintext\">1000</div></td><td><div class=\"dni-plaintext\">0</div></td></tr><tr><td>1</td><td>Apple</td><td>A</td><td><div class=\"dni-plaintext\">5001</div></td><td><div class=\"dni-plaintext\">10002</div></td></tr><tr><td>2</td><td>Samsung</td><td>S</td><td><div class=\"dni-plaintext\">1000</div></td><td><div class=\"dni-plaintext\">0</div></td></tr><tr><td>3</td><td>Samsung</td><td>S</td><td><div class=\"dni-plaintext\">5001</div></td><td><div class=\"dni-plaintext\">10002</div></td></tr></tbody></table>"
      ]
     },
     "metadata": {},
     "output_type": "display_data"
    }
   ],
   "source": [
    "// More advanced DU\n",
    "\n",
    "// Use case, create a loyalty engine! :)\n",
    "// We should be able to define rules based on order line which will say if they should get bonus point or not\n",
    "\n",
    "// Filter will define if the order line should get bonus point\n",
    "type Filter<'T> = \n",
    "    | And of ('T -> bool)\n",
    "    | Or of Filter<'T> list\n",
    "    | Not of Filter<'T>\n",
    " \n",
    "// Sink defins how bonus points are calculated\n",
    "type Sink<'T> = 'T -> 'T\n",
    "\n",
    "// Workflow defines how a flow with multiple filters and sinks should be created\n",
    "type Workflow<'T> =\n",
    "    | Sink of Sink<'T>\n",
    "    | Filter of Filter<'T> * Workflow<'T>\n",
    "\n",
    "// In the real world this will be part of order, but simplified for the sake of this example\n",
    "type OrderLineResult = {\n",
    "    Brand: string\n",
    "    ArticleId: string\n",
    "    Amount: int\n",
    "    Points: int\n",
    "}\n",
    "\n",
    "// Sink function that gives double points\n",
    "let doublePointSink (orderLine) = \n",
    "    {orderLine with Points = orderLine.Amount * 2 } \n",
    "\n",
    "// Sink function that gives one point per crown\n",
    "let baseSink (orderLine) =\n",
    "    {orderLine with Points = orderLine.Amount } \n",
    "\n",
    "\n",
    "// Some simple filters\n",
    "let atLeast5000Filter = And (fun orderLine -> orderLine.Amount >= 5000)\n",
    "let appleBrandFilter = And (fun orderLine -> orderLine.Brand = \"Apple\")\n",
    "let samsungBrandFilter = And (fun orderLine -> orderLine.Brand = \"Samsung\")\n",
    "\n",
    "// Combined filter\n",
    "let appleOrSamsungFilter = Or [appleBrandFilter; samsungBrandFilter]\n",
    "\n",
    "let workflow = Filter (atLeast5000Filter, (Filter (appleOrSamsungFilter, (Sink doublePointSink))))\n",
    "\n",
    "let rec execFilter filter orderLine =\n",
    "    match filter with\n",
    "    | And func -> func orderLine\n",
    "    | Or funcs -> funcs |> List.exists (fun func -> execFilter func orderLine)\n",
    "    | Not func -> not (execFilter func orderLine)\n",
    "\n",
    "let rec execute workflow orderLine =\n",
    "    match workflow with\n",
    "    | Sink sink -> sink orderLine\n",
    "    | Filter (filter, nextStep) ->\n",
    "        if execFilter filter orderLine \n",
    "        then execute nextStep orderLine\n",
    "        else orderLine\n",
    "\n",
    "let appleOrderBelow5000 = { Brand = \"Apple\"; ArticleId = \"A\"; Amount = 1000; Points = 0 }\n",
    "let appleOrderAbove5000 = { Brand = \"Apple\"; ArticleId = \"A\"; Amount = 5001; Points = 0 }\n",
    "let samsungOrderBelow5000 = { Brand = \"Samsung\"; ArticleId = \"S\"; Amount = 1000; Points = 0 }\n",
    "let samsungOrderAbove5000 = { Brand = \"Samsung\"; ArticleId = \"S\"; Amount = 5001; Points = 0 }\n",
    "\n",
    "[\n",
    "    appleOrderBelow5000\n",
    "    appleOrderAbove5000\n",
    "    samsungOrderBelow5000\n",
    "    samsungOrderAbove5000\n",
    "] |> List.map (execute workflow)\n"
   ]
  },
  {
   "cell_type": "code",
   "execution_count": null,
   "metadata": {
    "dotnet_interactive": {
     "language": "fsharp"
    }
   },
   "outputs": [
    {
     "data": {
      "text/html": [
       "<table><thead><tr><th><i>index</i></th><th>Brand</th><th>ArticleId</th><th>Amount</th><th>Points</th></tr></thead><tbody><tr><td>0</td><td>Apple</td><td>A</td><td><div class=\"dni-plaintext\">1000</div></td><td><div class=\"dni-plaintext\">1000</div></td></tr><tr><td>1</td><td>Apple</td><td>A</td><td><div class=\"dni-plaintext\">5001</div></td><td><div class=\"dni-plaintext\">10002</div></td></tr><tr><td>2</td><td>Samsung</td><td>S</td><td><div class=\"dni-plaintext\">1000</div></td><td><div class=\"dni-plaintext\">1000</div></td></tr><tr><td>3</td><td>Samsung</td><td>S</td><td><div class=\"dni-plaintext\">5001</div></td><td><div class=\"dni-plaintext\">10002</div></td></tr></tbody></table>"
      ]
     },
     "metadata": {},
     "output_type": "display_data"
    }
   ],
   "source": [
    "let executeMany workflows orderLine =\n",
    "    workflows\n",
    "    // Do the calculation for all workflows\n",
    "    |> List.map (fun workflow -> execute workflow orderLine)\n",
    "    // Pick the result with the most points\n",
    "    |> List.maxBy (fun orderLine -> orderLine.Points)\n",
    "\n",
    "let allWorkflows = [workflow; Sink baseSink]\n",
    "[\n",
    "    appleOrderBelow5000\n",
    "    appleOrderAbove5000\n",
    "    samsungOrderBelow5000\n",
    "    samsungOrderAbove5000\n",
    "] |> List.map (executeMany allWorkflows)"
   ]
  }
 ],
 "metadata": {
  "kernelspec": {
   "display_name": ".NET (F#)",
   "language": "F#",
   "name": ".net-fsharp"
  },
  "language_info": {
   "name": "F#"
  }
 },
 "nbformat": 4,
 "nbformat_minor": 2
}
