{
 "cells": [
  {
   "cell_type": "markdown",
   "metadata": {},
   "source": [
    "# Hello F#\n",
    "\n",
    "This is a .net interactive notebook with some sample code of the basic of F# that you play around with.\n",
    "\n",
    "Things we will cover in this notebook is:\n",
    "\n",
    "* Simple types\n",
    "* What is `let`\n",
    "* More complex types\n",
    "* Pattern matching"
   ]
  },
  {
   "cell_type": "markdown",
   "metadata": {},
   "source": [
    "## Simple types\n",
    "\n",
    "Types is one of the most important strength in F#. I've devided types into two sections, one around simple types and then one more advanced types later on.\n",
    "\n",
    "Types are defined using the `type` keyword. That is used for all the different types you can define, records, discriminated unions, classes, abstract classes or interfaces (yes you can do classes and interfaces in F#)\n",
    "\n",
    "Let's see some examples"
   ]
  },
  {
   "cell_type": "code",
   "execution_count": null,
   "metadata": {
    "dotnet_interactive": {
     "language": "fsharp"
    }
   },
   "outputs": [],
   "source": [
    "// Type alias \n",
    "type Age = int // This is just an alias over a native built-in type\n",
    "\n",
    "// Record\n",
    "type Person = {\n",
    "    Name: string\n",
    "    Age: int\n",
    "}\n",
    "\n",
    "// Discriminated union\n",
    "type Employee =\n",
    "    | Manager of Person\n",
    "    | Employee of Person"
   ]
  },
  {
   "cell_type": "markdown",
   "metadata": {},
   "source": [
    "## All you need to know - `let`\n",
    "\n",
    "`let` is the keyword used to define and assign a variable in F#. You use it to define functions and values. One thing that is important in F# is that everything is an expression. So everything has an output."
   ]
  },
  {
   "cell_type": "code",
   "execution_count": null,
   "metadata": {
    "dotnet_interactive": {
     "language": "fsharp"
    }
   },
   "outputs": [
    {
     "data": {
      "text/html": [
       "<div class=\"dni-plaintext\">11</div>"
      ]
     },
     "metadata": {},
     "output_type": "display_data"
    }
   ],
   "source": [
    "// Integer\n",
    "let x = 10\n",
    "// String\n",
    "let y = \"Hello\"\n",
    "// Record \n",
    "let tomas = { Name = \"Tomas\"; Age = 30 }\n",
    "let tomas2 = {\n",
    "    Name = \"Tomas\" // No need for ;\n",
    "    Age = 30\n",
    "}\n",
    "// DUs\n",
    "let employee = Employee tomas\n",
    "let manager = Employee tomas2\n",
    "\n",
    "// Functions\n",
    "let add x y = x + y\n",
    "add 5 6\n",
    "// add 5.5 5.6 // Fails since add has been inferred to be of type int"
   ]
  },
  {
   "cell_type": "code",
   "execution_count": null,
   "metadata": {
    "dotnet_interactive": {
     "language": "fsharp"
    }
   },
   "outputs": [
    {
     "data": {
      "text/html": [
       "<table><thead><tr><th>Name</th><th>Age</th></tr></thead><tbody><tr><td><div class=\"dni-plaintext\">Tomas</div></td><td><div class=\"dni-plaintext\">30</div></td></tr></tbody></table>"
      ]
     },
     "metadata": {},
     "output_type": "display_data"
    }
   ],
   "source": [
    "// More functions\n",
    "let changeName name person = { person with Name = name }\n",
    "changeName \"Ole\" tomas\n"
   ]
  },
  {
   "cell_type": "code",
   "execution_count": null,
   "metadata": {
    "dotnet_interactive": {
     "language": "fsharp"
    }
   },
   "outputs": [
    {
     "data": {
      "text/html": [
       "<table><thead><tr><th>Name</th><th>Age</th></tr></thead><tbody><tr><td><div class=\"dni-plaintext\">Tomas</div></td><td><div class=\"dni-plaintext\">30</div></td></tr></tbody></table>"
      ]
     },
     "metadata": {},
     "output_type": "display_data"
    }
   ],
   "source": [
    "tomas // is still unchanged"
   ]
  },
  {
   "cell_type": "code",
   "execution_count": null,
   "metadata": {
    "dotnet_interactive": {
     "language": "fsharp"
    }
   },
   "outputs": [
    {
     "data": {
      "text/html": [
       "<table><thead><tr><th>Item</th></tr></thead><tbody><tr><td><div class=\"dni-plaintext\">{ { Name = &quot;ole&quot;\n",
       "  Age = 30 }: Name: ole, Age: 30 }</div></td></tr></tbody></table>"
      ]
     },
     "metadata": {},
     "output_type": "display_data"
    }
   ],
   "source": [
    "let changeEmployeeName name employee = \n",
    "    match employee with\n",
    "    | Manager person -> Manager (changeName name person)\n",
    "    | Employee person -> Employee (changeName name person)\n",
    "\n",
    "changeEmployeeName \"ole\" manager"
   ]
  },
  {
   "cell_type": "markdown",
   "metadata": {},
   "source": [
    "## Currying and partial applications\n",
    "\n",
    "Currying and partial applications are central concept in programming in general, and you can also use it in most languages today that treats functions as first class citizens (C# does as well).\n",
    "\n",
    "Currying is to allow a function that takes multiple arguments to be written as a sequence of functions where each function takes one argument.\n",
    "\n",
    "    let add1 (x,y) = x + y // function that takes to arguments\n",
    "    let add2 x y = x + y // curried version\n",
    "\n",
    "Partial applications is what you got when you call a curried function with only some of its values\n",
    "\n",
    "    let add100 = add2 100 // This will call add2 with argumenet 100 returning a new function where x is set to be 100"
   ]
  },
  {
   "cell_type": "code",
   "execution_count": null,
   "metadata": {
    "dotnet_interactive": {
     "language": "fsharp"
    }
   },
   "outputs": [
    {
     "data": {
      "text/html": [
       "<table><thead><tr><th>Item1</th><th>Item2</th><th>Item3</th></tr></thead><tbody><tr><td><div class=\"dni-plaintext\">9</div></td><td><div class=\"dni-plaintext\">9</div></td><td><div class=\"dni-plaintext\">105</div></td></tr></tbody></table>"
      ]
     },
     "metadata": {},
     "output_type": "display_data"
    }
   ],
   "source": [
    "let add1 (x,y) = x + y\n",
    "let add2 x y = x + y\n",
    "let add100 = add2 100\n",
    "\n",
    "(add1(5,4), add 5 4, add100 5)"
   ]
  },
  {
   "cell_type": "markdown",
   "metadata": {},
   "source": [
    "## Piping (|>)\n",
    "\n",
    "Piping is very commong in F#, and it is a lot like bash piping. The syntax in short is\n",
    "\n",
    "    value |> function\n",
    "\n",
    "this is exactly the same as calling\n",
    "\n",
    "    function value"
   ]
  }
 ],
 "metadata": {
  "kernelspec": {
   "display_name": ".NET (F#)",
   "language": "F#",
   "name": ".net-fsharp"
  },
  "language_info": {
   "name": "F#"
  }
 },
 "nbformat": 4,
 "nbformat_minor": 2
}
